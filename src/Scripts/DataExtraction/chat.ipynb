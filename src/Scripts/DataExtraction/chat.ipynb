{
 "cells": [
  {
   "cell_type": "code",
   "execution_count": null,
   "id": "a359e88a",
   "metadata": {},
   "outputs": [],
   "source": [
    "import re\n",
    "import pandas as pd\n",
    "\n",
    "with open(\"../../Data/chat.txt\", \"r\", encoding=\"utf-8\") as f:\n",
    "    lines = f.readlines()\n",
    "\n",
    "cleaned = []\n",
    "# Regex: Date, Time, Sender, Message\n",
    "pattern = r\"^(\\d{2}/\\d{2}/\\d{4}), (\\d{1,2}:\\d{2}\\s*[ap]m) - ([^:]+?): (.*)\"\n",
    "\n",
    "for line in lines:\n",
    "    match = re.match(pattern, line.strip())\n",
    "    if match:\n",
    "        date, time, sender, message = match.groups()\n",
    "        # Skip system messages / media\n",
    "        if \"Messages and calls are end-to-end encrypted\" in message:\n",
    "            continue\n",
    "        if \"<Media omitted>\" in message:\n",
    "            continue\n",
    "        if message.__contains__(\"deleted this message\"):\n",
    "            continue\n",
    "        if message.__contains__(\"http\"):\n",
    "            continue\n",
    "        cleaned.append([date, time, sender, message])\n",
    "\n",
    "df = pd.DataFrame(cleaned, columns=[\"Date\", \"Time\", \"Sender\", \"Message\"])\n",
    "print(df.head())\n",
    "print(\"Total messages:\", len(df))\n",
    "\n",
    "df.to_csv(\"cleaned_chat.csv\", index=False, encoding=\"utf-8-sig\")"
   ]
  }
 ],
 "metadata": {
  "kernelspec": {
   "display_name": ".venv",
   "language": "python",
   "name": "python3"
  },
  "language_info": {
   "codemirror_mode": {
    "name": "ipython",
    "version": 3
   },
   "file_extension": ".py",
   "mimetype": "text/x-python",
   "name": "python",
   "nbconvert_exporter": "python",
   "pygments_lexer": "ipython3",
   "version": "3.13.7"
  }
 },
 "nbformat": 4,
 "nbformat_minor": 5
}
